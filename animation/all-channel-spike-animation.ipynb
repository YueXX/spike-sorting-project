{
 "cells": [
  {
   "cell_type": "code",
   "execution_count": 1,
   "metadata": {
    "collapsed": false
   },
   "outputs": [
    {
     "name": "stdout",
     "output_type": "stream",
     "text": [
      "\n",
      "[MoviePy] Building file sinc_mpl.gif with imageio\n"
     ]
    },
    {
     "name": "stderr",
     "output_type": "stream",
     "text": [
      " 98%|█████████▊| 40/41 [00:01<00:00, 20.91it/s]      | 2/41 [00:00<00:02, 17.09it/s]\n"
     ]
    }
   ],
   "source": [
    "import matplotlib.pyplot as plt\n",
    "import numpy as np\n",
    "from moviepy.video.io.bindings import mplfig_to_npimage\n",
    "import imageio\n",
    "#imageio.plugins.ffmpeg.download()\n",
    "\n",
    "import moviepy.editor as mpy\n",
    "\n",
    "\n",
    "# DRAW A FIGURE WITH MATPLOTLIB\n",
    "\n",
    "duration = 2\n",
    "fig_mpl, ax = plt.subplots(1,figsize=(5,3), facecolor='white')\n",
    "xx = np.linspace(-2,2,200) # the x vector\n",
    "zz = lambda d: np.sinc(xx**2)+np.sin(xx+d) # the (changing) z vector\n",
    "ax.set_title(\"Elevation in y=0\")\n",
    "ax.set_ylim(-1.5,2.5)\n",
    "line, = ax.plot(xx, zz(0), lw=3)\n",
    "\n",
    "# ANIMATE WITH MOVIEPY (UPDATE THE CURVE FOR EACH t). MAKE A GIF.\n",
    "\n",
    "def make_frame_mpl(t):\n",
    "    line.set_ydata( zz(2*np.pi*t/duration))  # <= Update the curve\n",
    "    return mplfig_to_npimage(fig_mpl) # RGB image of the figure\n",
    "\n",
    "animation =mpy.VideoClip(make_frame_mpl, duration=duration)\n",
    "animation.write_gif(\"sinc_mpl.gif\", fps=20)"
   ]
  },
  {
   "cell_type": "code",
   "execution_count": null,
   "metadata": {
    "collapsed": true
   },
   "outputs": [],
   "source": []
  },
  {
   "cell_type": "code",
   "execution_count": null,
   "metadata": {
    "collapsed": true
   },
   "outputs": [],
   "source": []
  }
 ],
 "metadata": {
  "kernelspec": {
   "display_name": "Python 3",
   "language": "python",
   "name": "python3"
  },
  "language_info": {
   "codemirror_mode": {
    "name": "ipython",
    "version": 3
   },
   "file_extension": ".py",
   "mimetype": "text/x-python",
   "name": "python",
   "nbconvert_exporter": "python",
   "pygments_lexer": "ipython3",
   "version": "3.5.2"
  }
 },
 "nbformat": 4,
 "nbformat_minor": 2
}
